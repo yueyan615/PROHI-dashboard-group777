{
 "cells": [
  {
   "cell_type": "markdown",
   "id": "d18f761a",
   "metadata": {},
   "source": [
    "# Descriptive Analytics"
   ]
  },
  {
   "cell_type": "markdown",
   "id": "04950efb",
   "metadata": {},
   "source": [
    "### Loading the cleaned dataset"
   ]
  },
  {
   "cell_type": "code",
   "execution_count": 1,
   "id": "b1304c33",
   "metadata": {},
   "outputs": [
    {
     "data": {
      "text/html": [
       "<div>\n",
       "<style scoped>\n",
       "    .dataframe tbody tr th:only-of-type {\n",
       "        vertical-align: middle;\n",
       "    }\n",
       "\n",
       "    .dataframe tbody tr th {\n",
       "        vertical-align: top;\n",
       "    }\n",
       "\n",
       "    .dataframe thead th {\n",
       "        text-align: right;\n",
       "    }\n",
       "</style>\n",
       "<table border=\"1\" class=\"dataframe\">\n",
       "  <thead>\n",
       "    <tr style=\"text-align: right;\">\n",
       "      <th></th>\n",
       "      <th>Gender</th>\n",
       "      <th>Age</th>\n",
       "      <th>Height</th>\n",
       "      <th>Weight</th>\n",
       "      <th>Family_history_overweight</th>\n",
       "      <th>High_caloric_food</th>\n",
       "      <th>Veggie_consumption_freq</th>\n",
       "      <th>Main_meals_count</th>\n",
       "      <th>Food_between_meals_freq</th>\n",
       "      <th>Smokes</th>\n",
       "      <th>Water_consumption</th>\n",
       "      <th>Monitors_calories</th>\n",
       "      <th>Physical_activity</th>\n",
       "      <th>Screen_time</th>\n",
       "      <th>Alcohol_consumption_freq</th>\n",
       "      <th>Transportation_mode</th>\n",
       "      <th>Obesity_level</th>\n",
       "      <th>BMI</th>\n",
       "    </tr>\n",
       "  </thead>\n",
       "  <tbody>\n",
       "    <tr>\n",
       "      <th>0</th>\n",
       "      <td>Female</td>\n",
       "      <td>21</td>\n",
       "      <td>1.62</td>\n",
       "      <td>64.0</td>\n",
       "      <td>True</td>\n",
       "      <td>False</td>\n",
       "      <td>Sometimes</td>\n",
       "      <td>Three</td>\n",
       "      <td>Sometimes</td>\n",
       "      <td>False</td>\n",
       "      <td>Between 1 and 2 L</td>\n",
       "      <td>False</td>\n",
       "      <td>I do not</td>\n",
       "      <td>3-5 hours</td>\n",
       "      <td>no</td>\n",
       "      <td>Public_Transportation</td>\n",
       "      <td>Normal_Weight</td>\n",
       "      <td>24.386526</td>\n",
       "    </tr>\n",
       "    <tr>\n",
       "      <th>1</th>\n",
       "      <td>Female</td>\n",
       "      <td>21</td>\n",
       "      <td>1.52</td>\n",
       "      <td>56.0</td>\n",
       "      <td>True</td>\n",
       "      <td>False</td>\n",
       "      <td>Always</td>\n",
       "      <td>Three</td>\n",
       "      <td>Sometimes</td>\n",
       "      <td>True</td>\n",
       "      <td>More than 2 L</td>\n",
       "      <td>True</td>\n",
       "      <td>4 or 5 days</td>\n",
       "      <td>0-2 hours</td>\n",
       "      <td>Sometimes</td>\n",
       "      <td>Public_Transportation</td>\n",
       "      <td>Normal_Weight</td>\n",
       "      <td>24.238227</td>\n",
       "    </tr>\n",
       "    <tr>\n",
       "      <th>2</th>\n",
       "      <td>Male</td>\n",
       "      <td>23</td>\n",
       "      <td>1.80</td>\n",
       "      <td>77.0</td>\n",
       "      <td>True</td>\n",
       "      <td>False</td>\n",
       "      <td>Sometimes</td>\n",
       "      <td>Three</td>\n",
       "      <td>Sometimes</td>\n",
       "      <td>False</td>\n",
       "      <td>Between 1 and 2 L</td>\n",
       "      <td>False</td>\n",
       "      <td>2 or 4 days</td>\n",
       "      <td>3-5 hours</td>\n",
       "      <td>Frequently</td>\n",
       "      <td>Public_Transportation</td>\n",
       "      <td>Normal_Weight</td>\n",
       "      <td>23.765432</td>\n",
       "    </tr>\n",
       "    <tr>\n",
       "      <th>3</th>\n",
       "      <td>Male</td>\n",
       "      <td>27</td>\n",
       "      <td>1.80</td>\n",
       "      <td>87.0</td>\n",
       "      <td>False</td>\n",
       "      <td>False</td>\n",
       "      <td>Always</td>\n",
       "      <td>Three</td>\n",
       "      <td>Sometimes</td>\n",
       "      <td>False</td>\n",
       "      <td>Between 1 and 2 L</td>\n",
       "      <td>False</td>\n",
       "      <td>2 or 4 days</td>\n",
       "      <td>0-2 hours</td>\n",
       "      <td>Frequently</td>\n",
       "      <td>Walking</td>\n",
       "      <td>Overweight_Level_I</td>\n",
       "      <td>26.851852</td>\n",
       "    </tr>\n",
       "    <tr>\n",
       "      <th>4</th>\n",
       "      <td>Male</td>\n",
       "      <td>22</td>\n",
       "      <td>1.78</td>\n",
       "      <td>89.8</td>\n",
       "      <td>False</td>\n",
       "      <td>False</td>\n",
       "      <td>Sometimes</td>\n",
       "      <td>Between 1 and 2</td>\n",
       "      <td>Sometimes</td>\n",
       "      <td>False</td>\n",
       "      <td>Between 1 and 2 L</td>\n",
       "      <td>False</td>\n",
       "      <td>I do not</td>\n",
       "      <td>0-2 hours</td>\n",
       "      <td>Sometimes</td>\n",
       "      <td>Public_Transportation</td>\n",
       "      <td>Overweight_Level_II</td>\n",
       "      <td>28.342381</td>\n",
       "    </tr>\n",
       "  </tbody>\n",
       "</table>\n",
       "</div>"
      ],
      "text/plain": [
       "   Gender  Age  Height  Weight  Family_history_overweight  High_caloric_food  \\\n",
       "0  Female   21    1.62    64.0                       True              False   \n",
       "1  Female   21    1.52    56.0                       True              False   \n",
       "2    Male   23    1.80    77.0                       True              False   \n",
       "3    Male   27    1.80    87.0                      False              False   \n",
       "4    Male   22    1.78    89.8                      False              False   \n",
       "\n",
       "  Veggie_consumption_freq Main_meals_count Food_between_meals_freq  Smokes  \\\n",
       "0               Sometimes            Three               Sometimes   False   \n",
       "1                  Always            Three               Sometimes    True   \n",
       "2               Sometimes            Three               Sometimes   False   \n",
       "3                  Always            Three               Sometimes   False   \n",
       "4               Sometimes  Between 1 and 2               Sometimes   False   \n",
       "\n",
       "   Water_consumption  Monitors_calories Physical_activity Screen_time  \\\n",
       "0  Between 1 and 2 L              False          I do not   3-5 hours   \n",
       "1      More than 2 L               True       4 or 5 days   0-2 hours   \n",
       "2  Between 1 and 2 L              False       2 or 4 days   3-5 hours   \n",
       "3  Between 1 and 2 L              False       2 or 4 days   0-2 hours   \n",
       "4  Between 1 and 2 L              False          I do not   0-2 hours   \n",
       "\n",
       "  Alcohol_consumption_freq    Transportation_mode        Obesity_level  \\\n",
       "0                       no  Public_Transportation        Normal_Weight   \n",
       "1                Sometimes  Public_Transportation        Normal_Weight   \n",
       "2               Frequently  Public_Transportation        Normal_Weight   \n",
       "3               Frequently                Walking   Overweight_Level_I   \n",
       "4                Sometimes  Public_Transportation  Overweight_Level_II   \n",
       "\n",
       "         BMI  \n",
       "0  24.386526  \n",
       "1  24.238227  \n",
       "2  23.765432  \n",
       "3  26.851852  \n",
       "4  28.342381  "
      ]
     },
     "execution_count": 1,
     "metadata": {},
     "output_type": "execute_result"
    }
   ],
   "source": [
    "import pandas as pd\n",
    "\n",
    "file_name = '../assets/ObesityDataSet_BMI.parquet'\n",
    "df = pd.read_parquet(file_name)\n",
    "df.head()"
   ]
  },
  {
   "cell_type": "markdown",
   "id": "9f8c56fc",
   "metadata": {},
   "source": [
    "**Check structure:**"
   ]
  },
  {
   "cell_type": "code",
   "execution_count": 2,
   "id": "15dbd27e",
   "metadata": {},
   "outputs": [
    {
     "data": {
      "text/plain": [
       "(2111, 18)"
      ]
     },
     "execution_count": 2,
     "metadata": {},
     "output_type": "execute_result"
    }
   ],
   "source": [
    "df.shape"
   ]
  },
  {
   "cell_type": "markdown",
   "id": "6c1c9023",
   "metadata": {},
   "source": [
    "**Check datatypes of the features:**"
   ]
  },
  {
   "cell_type": "code",
   "execution_count": 3,
   "id": "cb690451",
   "metadata": {},
   "outputs": [
    {
     "data": {
      "text/plain": [
       "Gender                       category\n",
       "Age                             int64\n",
       "Height                        float64\n",
       "Weight                        float64\n",
       "Family_history_overweight     boolean\n",
       "High_caloric_food             boolean\n",
       "Veggie_consumption_freq      category\n",
       "Main_meals_count             category\n",
       "Food_between_meals_freq      category\n",
       "Smokes                        boolean\n",
       "Water_consumption            category\n",
       "Monitors_calories             boolean\n",
       "Physical_activity            category\n",
       "Screen_time                  category\n",
       "Alcohol_consumption_freq     category\n",
       "Transportation_mode          category\n",
       "Obesity_level                category\n",
       "BMI                           float64\n",
       "dtype: object"
      ]
     },
     "execution_count": 3,
     "metadata": {},
     "output_type": "execute_result"
    }
   ],
   "source": [
    "df.dtypes"
   ]
  },
  {
   "cell_type": "markdown",
   "id": "05dae189",
   "metadata": {},
   "source": [
    "### Five analytical questions"
   ]
  },
  {
   "cell_type": "markdown",
   "id": "3dfd9079",
   "metadata": {},
   "source": [
    "#### 1. What is the age range?"
   ]
  },
  {
   "cell_type": "code",
   "execution_count": 4,
   "id": "a6fc43c2",
   "metadata": {},
   "outputs": [
    {
     "name": "stdout",
     "output_type": "stream",
     "text": [
      "Age ranges from 14 to 61 years\n"
     ]
    }
   ],
   "source": [
    "min_age = df['Age'].min()\n",
    "max_age = df['Age'].max()\n",
    "print(f\"Age ranges from {min_age} to {max_age} years\")"
   ]
  },
  {
   "cell_type": "markdown",
   "id": "60e5f185",
   "metadata": {},
   "source": [
    "#### 2. For participants who are classified as Obesity Class I, how many of them report always eating vegetables?"
   ]
  },
  {
   "cell_type": "code",
   "execution_count": 5,
   "id": "2c4dd02f",
   "metadata": {},
   "outputs": [
    {
     "name": "stdout",
     "output_type": "stream",
     "text": [
      "Number of participants classified as Obesity Class I who report always eating vegetables: 90\n"
     ]
    }
   ],
   "source": [
    "df_obesity_level_I = df[df['Obesity_level'] == 'Overweight_Level_I']\n",
    "num_always_vegetables = df_obesity_level_I[df_obesity_level_I['Veggie_consumption_freq'] == 'Always'].shape[0]\n",
    "print(f\"Number of participants classified as Obesity Class I who report always eating vegetables: {num_always_vegetables}\")"
   ]
  },
  {
   "cell_type": "markdown",
   "id": "c352e270",
   "metadata": {},
   "source": [
    "#### 3. What is the proportion of male participants with insufficient weight?"
   ]
  },
  {
   "cell_type": "code",
   "execution_count": 6,
   "id": "e3e25b7f",
   "metadata": {},
   "outputs": [
    {
     "name": "stdout",
     "output_type": "stream",
     "text": [
      "Proportion of male participants with insufficient weight: 9.27%\n"
     ]
    }
   ],
   "source": [
    "\n",
    "num_male_insufficient_weight = df[(df['Gender'] == 'Male') & (df['Obesity_level'] == 'Insufficient_Weight')].shape[0]\n",
    "total_male = df[df['Gender'] == 'Male'].shape[0]\n",
    "proportion_male_insufficient_weight = num_male_insufficient_weight / total_male\n",
    "print(f\"Proportion of male participants with insufficient weight: {proportion_male_insufficient_weight:.2%}\")\n"
   ]
  },
  {
   "cell_type": "markdown",
   "id": "4a626afd",
   "metadata": {},
   "source": [
    "#### 4. How many people with normal weight drink more than 2 L water vs less than 2L water: ratio"
   ]
  },
  {
   "cell_type": "code",
   "execution_count": null,
   "id": "139589b8",
   "metadata": {},
   "outputs": [],
   "source": []
  }
 ],
 "metadata": {
  "kernelspec": {
   "display_name": "env",
   "language": "python",
   "name": "python3"
  },
  "language_info": {
   "codemirror_mode": {
    "name": "ipython",
    "version": 3
   },
   "file_extension": ".py",
   "mimetype": "text/x-python",
   "name": "python",
   "nbconvert_exporter": "python",
   "pygments_lexer": "ipython3",
   "version": "3.13.8"
  }
 },
 "nbformat": 4,
 "nbformat_minor": 5
}
